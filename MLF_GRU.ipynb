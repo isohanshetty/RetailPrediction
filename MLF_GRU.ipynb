{
 "cells": [
  {
   "cell_type": "code",
   "execution_count": 1,
   "id": "f1850624",
   "metadata": {},
   "outputs": [
    {
     "name": "stderr",
     "output_type": "stream",
     "text": [
      "/home/shetty61/.local/lib/python3.9/site-packages/pandas/core/computation/expressions.py:21: UserWarning: Pandas requires version '2.8.4' or newer of 'numexpr' (version '2.7.3' currently installed).\n",
      "  from pandas.core.computation.check import NUMEXPR_INSTALLED\n",
      "/home/shetty61/.local/lib/python3.9/site-packages/pandas/core/arrays/masked.py:60: UserWarning: Pandas requires version '1.3.6' or newer of 'bottleneck' (version '1.3.2' currently installed).\n",
      "  from pandas.core import (\n",
      "/tmp/ipykernel_210406/3572549042.py:1: DeprecationWarning: \n",
      "Pyarrow will become a required dependency of pandas in the next major release of pandas (pandas 3.0),\n",
      "(to allow more performant data types, such as the Arrow string type, and better interoperability with other libraries)\n",
      "but was not found to be installed on your system.\n",
      "If this would cause problems for you,\n",
      "please provide us feedback at https://github.com/pandas-dev/pandas/issues/54466\n",
      "        \n",
      "  import pandas as pd\n",
      "2024-02-19 23:55:50.133264: E external/local_xla/xla/stream_executor/cuda/cuda_dnn.cc:9261] Unable to register cuDNN factory: Attempting to register factory for plugin cuDNN when one has already been registered\n",
      "2024-02-19 23:55:50.133316: E external/local_xla/xla/stream_executor/cuda/cuda_fft.cc:607] Unable to register cuFFT factory: Attempting to register factory for plugin cuFFT when one has already been registered\n",
      "2024-02-19 23:55:50.149707: E external/local_xla/xla/stream_executor/cuda/cuda_blas.cc:1515] Unable to register cuBLAS factory: Attempting to register factory for plugin cuBLAS when one has already been registered\n",
      "2024-02-19 23:55:50.188705: I tensorflow/core/platform/cpu_feature_guard.cc:182] This TensorFlow binary is optimized to use available CPU instructions in performance-critical operations.\n",
      "To enable the following instructions: AVX2 AVX512F FMA, in other operations, rebuild TensorFlow with the appropriate compiler flags.\n",
      "2024-02-19 23:55:51.349010: W tensorflow/compiler/tf2tensorrt/utils/py_utils.cc:38] TF-TRT Warning: Could not find TensorRT\n",
      "/apps/cent7/jupyterhub/lib/python3.9/site-packages/scipy/__init__.py:146: UserWarning: A NumPy version >=1.16.5 and <1.23.0 is required for this version of SciPy (detected version 1.26.4\n",
      "  warnings.warn(f\"A NumPy version >={np_minversion} and <{np_maxversion}\"\n"
     ]
    }
   ],
   "source": [
    "import pandas as pd\n",
    "import numpy as np\n",
    "\n",
    "from keras.models import Sequential, Model\n",
    "from keras.layers import Embedding, Dense, Dropout, Flatten, concatenate, Input,GRU\n",
    "from keras.preprocessing.sequence import pad_sequences\n",
    "from sklearn.model_selection import train_test_split"
   ]
  },
  {
   "cell_type": "code",
   "execution_count": 2,
   "id": "746f42de",
   "metadata": {},
   "outputs": [],
   "source": [
    "df = pd.read_csv('/depot/lanhamm/project-smith/Test/sales1CA2_Melt_Calendar_OutTreat_LabelEnc.csv')"
   ]
  },
  {
   "cell_type": "code",
   "execution_count": 5,
   "id": "24ee1431",
   "metadata": {},
   "outputs": [
    {
     "data": {
      "image/png": "[encoded data removed]",
      "text/plain": [
       "<Figure size 576x288 with 1 Axes>"
      ]
     },
     "metadata": {
      "needs_background": "light"
     },
     "output_type": "display_data"
    }
   ],
   "source": [
    "import seaborn as sns\n",
    "import matplotlib.pyplot as plt\n",
    "fig, ax = plt.subplots(figsize = (8,4))\n",
    "sns.boxplot(data=df, x='month' , y='sales' )\n",
    "ax.set_title('Sales Distribution by Month (with outlier treatment)')\n",
    "plt. show()"
   ]
  },
  {
   "cell_type": "code",
   "execution_count": 6,
   "id": "49ea6e97",
   "metadata": {},
   "outputs": [
    {
     "data": {
      "text/plain": [
       "Index(['day', 'wday', 'month', 'year', 'item_id_enc', 'dept_id_enc',\n",
       "       'store_id_enc', 'event_name_1_enc', 'event_type_1_enc',\n",
       "       'event_name_1_enc.1', 'snap_CA', 'sales'],\n",
       "      dtype='object')"
      ]
     },
     "execution_count": 6,
     "metadata": {},
     "output_type": "execute_result"
    }
   ],
   "source": [
    "df.columns"
   ]
  },
  {
   "cell_type": "code",
   "execution_count": 10,
   "id": "19815e33",
   "metadata": {},
   "outputs": [],
   "source": [
    "# GRU\n",
    "sequence_length = 28\n",
    "sequences = []\n",
    "categorical_data = []\n",
    "numerical_data = []\n",
    "targets = []"
   ]
  },
  {
   "cell_type": "code",
   "execution_count": 11,
   "id": "6ebd8ebd",
   "metadata": {},
   "outputs": [],
   "source": [
    "# Ensure the data is sorted if it's not already\n",
    "df.sort_values(by=['day', 'year', 'month', 'wday', 'store_id_enc', 'dept_id_enc', 'item_id_enc', 'event_type_1_enc', 'event_name_1_enc', 'snap_CA'], inplace=True)\n",
    "\n",
    "# Group by the categorical variables\n",
    "grouped = df.groupby(['store_id_enc', 'dept_id_enc', 'item_id_enc', 'event_type_1_enc', 'event_name_1_enc'])"
   ]
  },
  {
   "cell_type": "code",
   "execution_count": 12,
   "id": "3ec42d3a",
   "metadata": {},
   "outputs": [],
   "source": [
    "for _, group in grouped:\n",
    "    sales = group['sales'].values\n",
    "    \n",
    "    # Convert necessary columns to numpy arrays\n",
    "    store_ids = group['store_id_enc'].values\n",
    "    dept_ids = group['dept_id_enc'].values\n",
    "    item_ids = group['item_id_enc'].values\n",
    "    events = group['event_name_1_enc'].values\n",
    "    evtype = group['event_type_1_enc'].values\n",
    "    \n",
    "    # New: Numerical features\n",
    "    days = group['day'].values\n",
    "    years = group['year'].values\n",
    "    months = group['month'].values\n",
    "    wd = group['wday'].values\n",
    "    snap_CA = group['snap_CA'].values\n",
    "    \n",
    "    for i in range(len(sales) - sequence_length):\n",
    "        sequences.append(sales[i:i+sequence_length])\n",
    "        targets.append(sales[i+sequence_length])\n",
    "        categorical_data.append([store_ids[i], dept_ids[i], item_ids[i], events[i], evtype[i]])\n",
    "        # Include numerical features\n",
    "        numerical_data.append([days[i], years[i], months[i], wd[i], snap_CA[i]])"
   ]
  },
  {
   "cell_type": "code",
   "execution_count": 13,
   "id": "22766ef8",
   "metadata": {},
   "outputs": [],
   "source": [
    "# Convert to numpy arrays\n",
    "sequences = np.array(sequences)\n",
    "targets = np.array(targets)\n",
    "categorical_data = np.array(categorical_data)\n",
    "numerical_data = np.array(numerical_data)\n",
    "\n",
    "# Split data into train and test sets\n",
    "X_train_sequences, X_test_sequences, y_train, y_test, X_train_categorical, X_test_categorical, X_train_numerical, X_test_numerical = train_test_split(sequences, targets, categorical_data, numerical_data, test_size=0.2, random_state=42)\n"
   ]
  },
  {
   "cell_type": "code",
   "execution_count": 14,
   "id": "21eddac0",
   "metadata": {},
   "outputs": [],
   "source": [
    "# Reshape input for LSTM\n",
    "X_train_sequences = X_train_sequences.reshape((X_train_sequences.shape[0], X_train_sequences.shape[1], 1))\n",
    "X_test_sequences = X_test_sequences.reshape((X_test_sequences.shape[0], X_test_sequences.shape[1], 1))"
   ]
  },
  {
   "cell_type": "code",
   "execution_count": 15,
   "id": "cce34e39",
   "metadata": {},
   "outputs": [
    {
     "name": "stderr",
     "output_type": "stream",
     "text": [
      "2024-02-19 23:58:56.385202: W tensorflow/core/common_runtime/gpu/gpu_device.cc:2256] Cannot dlopen some GPU libraries. Please make sure the missing libraries mentioned above are installed properly if you would like to use GPU. Follow the guide at https://www.tensorflow.org/install/gpu for how to download and setup the required libraries for your platform.\n",
      "Skipping registering GPU devices...\n"
     ]
    }
   ],
   "source": [
    "# Define model inputs for categorical variables\n",
    "\n",
    "embedding_dim = 10  # Reduced embedding dimension\n",
    "\n",
    "input_item = Input(shape=(1,))\n",
    "embed_item = Embedding(input_dim=np.max(df['item_id_enc'])+1, output_dim=embedding_dim)(input_item)\n",
    "flat_item = Flatten()(embed_item)\n",
    "\n",
    "input_dept = Input(shape=(1,))\n",
    "embed_dept = Embedding(input_dim=np.max(df['dept_id_enc'])+1, output_dim=embedding_dim)(input_dept)\n",
    "flat_dept = Flatten()(embed_dept)\n",
    "\n",
    "input_store = Input(shape=(1,))\n",
    "embed_store = Embedding(input_dim=np.max(df['store_id_enc'])+1, output_dim=embedding_dim)(input_store)\n",
    "flat_store = Flatten()(embed_store)\n",
    "\n",
    "input_event = Input(shape=(1,))\n",
    "embed_event = Embedding(input_dim=np.max(df['event_name_1_enc'])+1, output_dim=embedding_dim)(input_event)\n",
    "flat_event = Flatten()(embed_event)\n",
    "\n",
    "input_evtype = Input(shape=(1,))\n",
    "embed_evtype = Embedding(input_dim=np.max(df['event_type_1_enc'])+1, output_dim=embedding_dim)(input_evtype)\n",
    "flat_evtype = Flatten()(embed_evtype)\n",
    "\n",
    "input_numerical = Input(shape=(5,))  # Adjust shape based on the number of numerical features"
   ]
  },
  {
   "cell_type": "code",
   "execution_count": 16,
   "id": "49191d05",
   "metadata": {},
   "outputs": [],
   "source": [
    "# Define model input for the sales sequences\n",
    "input_sequences = Input(shape=(sequence_length, 1))\n",
    "\n",
    "# GRU layer for processing sequences\n",
    "gru_out = GRU(50)(input_sequences)  # Using GRU instead of LSTM\n",
    "\n",
    "# Concatenate GRU output with flattened embeddings\n",
    "concat = concatenate([flat_store, flat_dept, flat_item, flat_event, flat_evtype, gru_out, input_numerical])\n",
    "\n",
    "# Output layer\n",
    "output = Dense(1)(concat)"
   ]
  },
  {
   "cell_type": "code",
   "execution_count": 17,
   "id": "31711006",
   "metadata": {},
   "outputs": [],
   "source": [
    "# Create and compile model\n",
    "model = Model(inputs=[input_store, input_dept, input_item, input_event, input_evtype, input_sequences, input_numerical], outputs=output)\n",
    "model.compile(optimizer='adam', loss='mean_squared_error')"
   ]
  },
  {
   "cell_type": "code",
   "execution_count": 18,
   "id": "f199cdd5",
   "metadata": {},
   "outputs": [
    {
     "name": "stdout",
     "output_type": "stream",
     "text": [
      "Epoch 1/20\n",
      "36248/36248 [==============================] - 618s 17ms/step - loss: 476.1165 - val_loss: 1.6969\n",
      "Epoch 2/20\n",
      "36248/36248 [==============================] - 618s 17ms/step - loss: 1.1650 - val_loss: 1.2915\n",
      "Epoch 3/20\n",
      "36248/36248 [==============================] - 615s 17ms/step - loss: 1.1565 - val_loss: 1.2602\n",
      "Epoch 4/20\n",
      " 7837/36248 [=====>........................] - ETA: 7:26 - loss: 1.1525"
     ]
    },
    {
     "name": "stderr",
     "output_type": "stream",
     "text": [
      "IOPub message rate exceeded.\n",
      "The notebook server will temporarily stop sending output\n",
      "to the client in order to avoid crashing it.\n",
      "To change this limit, set the config variable\n",
      "`--NotebookApp.iopub_msg_rate_limit`.\n",
      "\n",
      "Current values:\n",
      "NotebookApp.iopub_msg_rate_limit=1000.0 (msgs/sec)\n",
      "NotebookApp.rate_limit_window=3.0 (secs)\n",
      "\n"
     ]
    },
    {
     "name": "stdout",
     "output_type": "stream",
     "text": [
      "36248/36248 [==============================] - 615s 17ms/step - loss: 1.1523 - val_loss: 1.0925\n",
      "Epoch 5/20\n",
      "36248/36248 [==============================] - 611s 17ms/step - loss: 1.1522 - val_loss: 1.0833\n",
      "Epoch 6/20\n",
      "36248/36248 [==============================] - 616s 17ms/step - loss: 1.1504 - val_loss: 1.1800\n",
      "Epoch 7/20\n",
      "36248/36248 [==============================] - 608s 17ms/step - loss: 1.1483 - val_loss: 1.2767\n",
      "Epoch 8/20\n",
      "36248/36248 [==============================] - 615s 17ms/step - loss: 1.1485 - val_loss: 1.1036\n",
      "Epoch 9/20\n",
      "36248/36248 [==============================] - 584s 16ms/step - loss: 1.1499 - val_loss: 1.5220\n",
      "Epoch 10/20\n",
      "36248/36248 [==============================] - 586s 16ms/step - loss: 1.1494 - val_loss: 1.0966\n",
      "Epoch 11/20\n",
      "36248/36248 [==============================] - 584s 16ms/step - loss: 1.1470 - val_loss: 1.1865\n"
     ]
    },
    {
     "data": {
      "text/plain": [
       "<keras.src.callbacks.History at 0x2abeeab83cd0>"
      ]
     },
     "execution_count": 18,
     "metadata": {},
     "output_type": "execute_result"
    }
   ],
   "source": [
    "model.fit(\n",
    "    [X_train_categorical[:, 0], X_train_categorical[:, 1], X_train_categorical[:, 2], X_train_categorical[:, 3], X_train_categorical[:, 4], X_train_sequences, X_train_numerical],\n",
    "    y_train,\n",
    "    epochs=20,\n",
    "    batch_size=128,\n",
    "    validation_split=0.2\n",
    ")"
   ]
  },
  {
   "cell_type": "code",
   "execution_count": 20,
   "id": "a8a237c2",
   "metadata": {},
   "outputs": [
    {
     "name": "stdout",
     "output_type": "stream",
     "text": [
      "45309/45309 [==============================] - 134s 3ms/step\n",
      "Mean Squared Error (MSE): 1.1845395033013113\n",
      "Root Mean Squared Error (RMSE): 1.0883655191622488\n"
     ]
    }
   ],
   "source": [
    "# Predict on the test set\n",
    "y_pred = model.predict([X_test_categorical[:, 0], X_test_categorical[:, 1], X_test_categorical[:, 2], X_test_categorical[:, 3], X_test_categorical[:, 4], X_test_sequences, X_test_numerical])\n",
    "\n",
    "# Evaluate the model performance\n",
    "from sklearn.metrics import mean_squared_error, mean_absolute_error, r2_score\n",
    "import math\n",
    "\n",
    "# Calculate Mean Squared Error\n",
    "mse = mean_squared_error(y_test, y_pred)\n",
    "print(f\"Mean Squared Error (MSE): {mse}\")\n",
    "\n",
    "# Calculate Root Mean Squared Error\n",
    "rmse = math.sqrt(mse)\n",
    "print(f\"Root Mean Squared Error (RMSE): {rmse}\")"
   ]
  },
  {
   "cell_type": "code",
   "execution_count": 21,
   "id": "636c4ce0",
   "metadata": {},
   "outputs": [
    {
     "name": "stdout",
     "output_type": "stream",
     "text": [
      "Mean Absolute Error (MAE): 0.777317311470266\n",
      "R-squared (R²): 0.5574093980041236\n"
     ]
    }
   ],
   "source": [
    "# Calculate Mean Absolute Error\n",
    "mae = mean_absolute_error(y_test, y_pred)\n",
    "print(f\"Mean Absolute Error (MAE): {mae}\")\n",
    "\n",
    "# Calculate R-squared\n",
    "r2 = r2_score(y_test, y_pred)\n",
    "print(f\"R-squared (R²): {r2}\")"
   ]
  },
  {
   "cell_type": "code",
   "execution_count": null,
   "id": "6d7172db",
   "metadata": {},
   "outputs": [],
   "source": []
  },
  {
   "cell_type": "code",
   "execution_count": null,
   "id": "583147c5",
   "metadata": {},
   "outputs": [],
   "source": []
  },
  {
   "cell_type": "code",
   "execution_count": null,
   "id": "90206045",
   "metadata": {},
   "outputs": [],
   "source": []
  },
  {
   "cell_type": "code",
   "execution_count": null,
   "id": "7a40e091",
   "metadata": {},
   "outputs": [],
   "source": []
  }
 ],
 "metadata": {
  "kernelspec": {
   "display_name": "Python 3.9 (Default)",
   "language": "python",
   "name": "python3"
  },
  "language_info": {
   "codemirror_mode": {
    "name": "ipython",
    "version": 3
   },
   "file_extension": ".py",
   "mimetype": "text/x-python",
   "name": "python",
   "nbconvert_exporter": "python",
   "pygments_lexer": "ipython3",
   "version": "3.9.7"
  }
 },
 "nbformat": 4,
 "nbformat_minor": 5
}
